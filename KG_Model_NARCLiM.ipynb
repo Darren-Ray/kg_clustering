{
 "cells": [
  {
   "cell_type": "markdown",
   "metadata": {},
   "source": [
    "For each point in the data set, we run through the KG classification.  This requires\n",
    "\n",
    "Tann - Annual mean temperature\n",
    "\n",
    "Tmax - Highest monthly mean temperature\n",
    "\n",
    "Tmin - Lowest monthly mean temperature\n",
    "\n",
    "Pann - Accumulated annual precipitation\n",
    "\n",
    "Pmin - Accumulated precipitation of driest month\n",
    "\n",
    "Psmin - Lowest monthly summer precipitation\n",
    "\n",
    "Psmax - Highest monthly summer precipitation\n",
    "\n",
    "Pwmin - Lowest monthly winter precipitation\n",
    "\n",
    "Pwmax - Highest monthly winter precipitation"
   ]
  },
  {
   "cell_type": "code",
   "execution_count": 1,
   "metadata": {},
   "outputs": [],
   "source": [
    "import numpy as np\n",
    "import xarray as xr\n",
    "import pandas as pd\n",
    "import dask.array as da\n",
    "import time\n",
    "import matplotlib.pyplot as plt\n",
    "import math\n",
    "import matplotlib.colors as color"
   ]
  },
  {
   "cell_type": "code",
   "execution_count": 2,
   "metadata": {},
   "outputs": [
    {
     "data": {
      "text/html": [
       "\n",
       "<style>\n",
       "    div#notebook-container    { width: 95%; }\n",
       "    div#menubar-container     { width: 65%; }\n",
       "    div#maintoolbar-container { width: 99%; }\n",
       "</style>\n"
      ],
      "text/plain": [
       "<IPython.core.display.HTML object>"
      ]
     },
     "metadata": {},
     "output_type": "display_data"
    }
   ],
   "source": [
    "#Change viewing options\n",
    "from IPython.core.display import display, HTML\n",
    "display(HTML(data=\"\"\"\n",
    "<style>\n",
    "    div#notebook-container    { width: 95%; }\n",
    "    div#menubar-container     { width: 65%; }\n",
    "    div#maintoolbar-container { width: 99%; }\n",
    "</style>\n",
    "\"\"\"))\n",
    "\n",
    "np.set_printoptions(edgeitems=30, linewidth=100000, \n",
    "    formatter=dict(float=lambda x: \"%.3g\" % x))"
   ]
  },
  {
   "cell_type": "code",
   "execution_count": 3,
   "metadata": {},
   "outputs": [],
   "source": [
    "#from dask.distributed import Client\n",
    "#client = Client()  # set up local cluster on your laptop\n",
    "#client"
   ]
  },
  {
   "cell_type": "code",
   "execution_count": 4,
   "metadata": {},
   "outputs": [
    {
     "name": "stdout",
     "output_type": "stream",
     "text": [
      "6.710015296936035\n"
     ]
    }
   ],
   "source": [
    "#Bring in the whole dataset\n",
    "start = time.time()\n",
    "#ds = xr.open_mfdataset('/home/ddesantis/Downloads/livneh_NAmerExt_15Oct2014.*.mon.nc')\n",
    "ds = xr.open_mfdataset('D:/Programing/LANL_summer/LOCA/livneh_NAmerExt_15Oct2014.*.mon.nc')\n",
    "end = time.time()\n",
    "print(end - start)"
   ]
  },
  {
   "cell_type": "markdown",
   "metadata": {},
   "source": [
    "# Functions to Prepare Data"
   ]
  },
  {
   "cell_type": "markdown",
   "metadata": {},
   "source": [
    "spring (March, April, May), summer (June, July, August), autumn (September, October, November) and winter (December, January, February)"
   ]
  },
  {
   "cell_type": "code",
   "execution_count": 5,
   "metadata": {},
   "outputs": [],
   "source": [
    "def monthly_mean(ds):\n",
    "    '''\n",
    "    Finds the average value for a given month for a data set.  For example, given 20 years of data, month 1 corresponds to the mean\n",
    "    of each of the 20 January values.\n",
    "    \n",
    "    Note that the dates on these correspond to the first year rather than the whole time interval.  This is to ensure that datetime\n",
    "    functions later work.\n",
    "    '''\n",
    "    #First, we find date index to be added back into our data array\n",
    "    year_min = pd.DatetimeIndex(ds.time.values).year.min()\n",
    "    date = pd.to_datetime(\"{}-01-16\".format(year_min))\n",
    "    time_index = date + pd.to_timedelta(np.arange(12), 'M')\n",
    "    \n",
    "    #Next, we take the mean along each month:\n",
    "    ds = ds.groupby('time.month').mean('time')\n",
    "    ds = ds.assign_coords(month = time_index)\n",
    "\n",
    "    \n",
    "\n",
    "    return ds"
   ]
  },
  {
   "cell_type": "code",
   "execution_count": 6,
   "metadata": {},
   "outputs": [],
   "source": [
    "def build_rolling_mean(ds, delta_t):\n",
    "    '''\n",
    "    This function takes a data set ds and a time chunk delta_t and uses these to build a new data set of rolling averages along\n",
    "    the months\n",
    "    '''\n",
    "    \n",
    "    #First, compute how many years we will have\n",
    "    year_min = pd.DatetimeIndex(ds.time.values).year.min()\n",
    "    year_max = pd.DatetimeIndex(ds.time.values).year.max()\n",
    "    number_years = year_max -year_min - delta_t+1\n",
    "    \n",
    "    #Compute the first monthly mean\n",
    "    ds2 = ds.isel(time=slice(0,12*delta_t))\n",
    "    ds2 = monthly_mean(ds2)\n",
    "    \n",
    "    #For each delta_t year span, compute the average\n",
    "    for t in range(1, number_years):\n",
    "        dst = ds.isel(time=slice(12*t,12*delta_t + 12*t))\n",
    "        dst = monthly_mean(dst)\n",
    "        ds2 = xr.concat([ds2,dst], dim = 'month')\n",
    "        \n",
    "    return ds2"
   ]
  },
  {
   "cell_type": "code",
   "execution_count": 7,
   "metadata": {},
   "outputs": [],
   "source": [
    "dst = build_rolling_mean(ds, 25)"
   ]
  },
  {
   "cell_type": "code",
   "execution_count": 8,
   "metadata": {},
   "outputs": [
    {
     "data": {
      "text/plain": [
       "<xarray.Dataset>\n",
       "Dimensions:  (lat: 614, lon: 928, month: 468)\n",
       "Coordinates:\n",
       "  * lon      (lon) float64 -125.0 -124.9 -124.8 -124.8 -124.7 -124.7 -124.6 ...\n",
       "  * lat      (lat) float64 14.66 14.72 14.78 14.84 14.91 14.97 15.03 15.09 ...\n",
       "  * month    (month) datetime64[ns] 1950-01-16 1950-02-15T10:29:06 ...\n",
       "Data variables:\n",
       "    Prec     (month, lat, lon) float32 dask.array<shape=(468, 614, 928), chunksize=(1, 614, 928)>\n",
       "    Tmax     (month, lat, lon) float32 dask.array<shape=(468, 614, 928), chunksize=(1, 614, 928)>\n",
       "    Tmin     (month, lat, lon) float32 dask.array<shape=(468, 614, 928), chunksize=(1, 614, 928)>\n",
       "    wind     (month, lat, lon) float32 dask.array<shape=(468, 614, 928), chunksize=(1, 614, 928)>"
      ]
     },
     "execution_count": 8,
     "metadata": {},
     "output_type": "execute_result"
    }
   ],
   "source": [
    "dst"
   ]
  },
  {
   "cell_type": "code",
   "execution_count": 9,
   "metadata": {},
   "outputs": [],
   "source": [
    "#Functions used to select summer and winter half of years\n",
    "def is_sum(month):\n",
    "    return (month >= 4) & (month <= 9)\n",
    "\n",
    "def is_win(month):\n",
    "    return (month<=3) | (month >=10)"
   ]
  },
  {
   "cell_type": "code",
   "execution_count": 10,
   "metadata": {},
   "outputs": [],
   "source": [
    "#Select the summmer and winter half of years\n",
    "dst_summer = dst.sel(month=is_sum(dst['month.month']))\n",
    "dst_winter = dst.sel(month=is_win(dst['month.month']))"
   ]
  },
  {
   "cell_type": "code",
   "execution_count": 11,
   "metadata": {
    "scrolled": true
   },
   "outputs": [],
   "source": [
    "#Compute the means, max, etc of the xarray data\n",
    "dst_mean = dst.mean(dim='month')\n",
    "dst_max = dst.max(dim='month')\n",
    "dst_min = dst.min(dim='month')\n",
    "dst_acc = dst.sum(dim='month')\n",
    "\n",
    "dst_summer_max = dst_summer.max(dim='month')\n",
    "dst_summer_min = dst_summer.min(dim = 'month')\n",
    "dst_summer_sum = dst_summer.sum(dim='month')\n",
    "\n",
    "dst_winter_max = dst_winter.max(dim='month')\n",
    "dst_winter_min = dst_winter.max(dim='month')\n",
    "dst_winter_sum = dst_winter.sum(dim='month')"
   ]
  },
  {
   "cell_type": "code",
   "execution_count": 12,
   "metadata": {
    "scrolled": true
   },
   "outputs": [
    {
     "name": "stderr",
     "output_type": "stream",
     "text": [
      "C:\\Users\\Derek\\Miniconda3\\lib\\site-packages\\dask\\array\\numpy_compat.py:28: RuntimeWarning: invalid value encountered in true_divide\n",
      "  x = np.divide(x1, x2, out)\n",
      "C:\\Users\\Derek\\Miniconda3\\lib\\site-packages\\dask\\compatibility.py:48: RuntimeWarning: All-NaN slice encountered\n",
      "  return func(*args, **kwargs)\n",
      "C:\\Users\\Derek\\Miniconda3\\lib\\site-packages\\toolz\\functoolz.py:468: RuntimeWarning: All-NaN slice encountered\n",
      "  ret = f(ret)\n"
     ]
    }
   ],
   "source": [
    "#Convert the xarray data types above into np arrays as needed for biome functions:\n",
    "\n",
    "#Year long Tmax, Tmin, Prec min and Prec accumulation\n",
    "T_max = np.array(dst_max.Tmax)\n",
    "P_ann = np.array(dst_acc.Prec)\n",
    "T_min = np.array(dst_min.Tmin)\n",
    "P_min = np.array(dst_min.Prec)\n",
    "\n",
    "#Total Prec in summer and winter\n",
    "P_s_sum = np.array(dst_summer_sum.Prec)\n",
    "P_w_sum = np.array(dst_winter_sum.Prec)\n",
    "\n",
    "#Min and max of Prec in summer and winter\n",
    "P_s_min = np.array(dst_summer_min.Prec)\n",
    "P_w_min = np.array(dst_winter_min.Prec)\n",
    "P_w_max = np.array(dst_winter_max.Prec)\n",
    "P_s_max = np.array(dst_summer_max.Prec)\n",
    "\n",
    "T_mean = 0.5*(T_max + T_min)"
   ]
  },
  {
   "cell_type": "code",
   "execution_count": 13,
   "metadata": {},
   "outputs": [],
   "source": [
    "def pth_build(Tmean, Pann, Pwsum, Pssum):\n",
    "    '''\n",
    "    Given the mean temperature, winter and summer precipitation, compute P_th\n",
    "    '''\n",
    "    #Find two thirds of the annual precip\n",
    "    twothirds = (2/3)*Pann\n",
    "    \n",
    "    #Create the winter mask\n",
    "    winter_mask = twothirds-Pwsum\n",
    "    winter_mask[winter_mask>0] = 0\n",
    "    winter_mask[winter_mask<0] = 1\n",
    "    \n",
    "    #Create the summer mask\n",
    "    summer_mask = twothirds-Pssum\n",
    "    summer_mask[summer_mask>0]=0\n",
    "    summer_mask[summer_mask<0] = 1\n",
    "    \n",
    "    #Remainder mask - note that this will include the location of nan values since those experience zero precip\n",
    "    else_mask = np.ones_like(Tmean) - winter_mask - summer_mask\n",
    "    \n",
    "    #Create Pth\n",
    "    pth_win = 2*Tmean*winter_mask\n",
    "    pth_sum = 2*Tmean*summer_mask + 28*summer_mask\n",
    "    pth_else = 2*Tmean*else_mask + 14*else_mask\n",
    "    \n",
    "    pth = pth_win + pth_sum + pth_else\n",
    "    \n",
    "    return pth"
   ]
  },
  {
   "cell_type": "code",
   "execution_count": 14,
   "metadata": {},
   "outputs": [],
   "source": [
    "Pth = pth_build(T_mean, P_ann, P_w_sum, P_s_sum)"
   ]
  },
  {
   "cell_type": "code",
   "execution_count": 15,
   "metadata": {},
   "outputs": [
    {
     "data": {
      "text/plain": [
       "(614, 928)"
      ]
     },
     "execution_count": 15,
     "metadata": {},
     "output_type": "execute_result"
    }
   ],
   "source": [
    "Pth.shape"
   ]
  },
  {
   "cell_type": "code",
   "execution_count": 16,
   "metadata": {},
   "outputs": [],
   "source": [
    "def warm_summer_mask(ds):\n",
    "    '''\n",
    "    This function finds the mask for the warm summer climates in the sub-sub-classes of C and D\n",
    "    '''\n",
    "    #First, we find the monthly mean temperature for our data set\n",
    "    monthly_mean = ds.groupby('month.month').mean('month')\n",
    "    temp_mean = (0.5)*(monthly_mean.Tmax + monthly_mean.Tmin)\n",
    "    temp_mean = np.array(temp_mean)\n",
    "    \n",
    "    #Now we create the mask:\n",
    "    warmsum = np.copy(temp_mean)\n",
    "    warmsum = np.nan_to_num(warmsum)\n",
    "    warmsum[temp_mean<10] = 0\n",
    "    warmsum[temp_mean>=10] = 1\n",
    "    warmsum = np.sum(warmsum, axis=0)\n",
    "    \n",
    "    return warmsum"
   ]
  },
  {
   "cell_type": "code",
   "execution_count": 17,
   "metadata": {},
   "outputs": [
    {
     "name": "stderr",
     "output_type": "stream",
     "text": [
      "C:\\Users\\Derek\\Miniconda3\\lib\\site-packages\\dask\\array\\numpy_compat.py:28: RuntimeWarning: invalid value encountered in true_divide\n",
      "  x = np.divide(x1, x2, out)\n",
      "C:\\Users\\Derek\\Miniconda3\\lib\\site-packages\\ipykernel_launcher.py:13: RuntimeWarning: invalid value encountered in less\n",
      "  del sys.path[0]\n",
      "C:\\Users\\Derek\\Miniconda3\\lib\\site-packages\\ipykernel_launcher.py:14: RuntimeWarning: invalid value encountered in greater_equal\n",
      "  \n"
     ]
    }
   ],
   "source": [
    "warmsum = warm_summer_mask(dst)"
   ]
  },
  {
   "cell_type": "markdown",
   "metadata": {},
   "source": [
    "# Class Functions"
   ]
  },
  {
   "cell_type": "code",
   "execution_count": 18,
   "metadata": {},
   "outputs": [],
   "source": [
    "def ET_loc(Tmax):\n",
    "    '''\n",
    "    Takes Tmax as numpy array to return the locations of ET.\n",
    "    '''\n",
    "    ET = np.zeros_like(Tmax)\n",
    "    ET[(0<=Tmax) & (Tmax<10)] = 1\n",
    "    \n",
    "    return ET"
   ]
  },
  {
   "cell_type": "code",
   "execution_count": 19,
   "metadata": {},
   "outputs": [],
   "source": [
    "def EF_loc(Tmax):\n",
    "    '''\n",
    "    Takes Tmax as numpy array to return the locations of EF.\n",
    "    '''\n",
    "    EF = np.zeros_like(Tmax)\n",
    "    EF[Tmax<0] = 1\n",
    "    \n",
    "    return EF"
   ]
  },
  {
   "cell_type": "code",
   "execution_count": 20,
   "metadata": {},
   "outputs": [],
   "source": [
    "def BS_loc(Pann, Pth):\n",
    "    '''\n",
    "    Takes Pann and Pth as np arrays to return the locations of BS.\n",
    "    '''\n",
    "    BS = np.zeros_like(Pann)\n",
    "    BS[(5*Pth < Pann) & (Pann < 10*Pth)]=1\n",
    "    \n",
    "    return BS"
   ]
  },
  {
   "cell_type": "code",
   "execution_count": 21,
   "metadata": {},
   "outputs": [],
   "source": [
    "def BW_loc(Pann, Pth):\n",
    "    '''\n",
    "    Takes Pann and Pth as np arrays to return the locations of BW.\n",
    "    '''\n",
    "    BW = np.zeros_like(Pann)\n",
    "    BW[(5*Pth >= Pann)]=1\n",
    "    \n",
    "    return BW"
   ]
  },
  {
   "cell_type": "code",
   "execution_count": 22,
   "metadata": {},
   "outputs": [],
   "source": [
    "def AF_loc(Tmin, Pmin, BE):\n",
    "    '''\n",
    "    Takes Tmin and Pmin to as np arrays to return the locations of AF.\n",
    "    '''\n",
    "    \n",
    "    AF = np.zeros_like(Tmin)\n",
    "    \n",
    "    #First, select all the possible locations of interest in the A class:\n",
    "    AF[Tmin>=18] = 1\n",
    "    #Then, remove locations not in the AF class:\n",
    "    AF[Pmin<60] = 0\n",
    "    #Then remove classes B and E:\n",
    "    AF = AF - BE\n",
    "    AF[AF<0] = 0\n",
    "    \n",
    "    return AF"
   ]
  },
  {
   "cell_type": "code",
   "execution_count": 23,
   "metadata": {},
   "outputs": [],
   "source": [
    "def AM_loc(Tmin, Pann, Pmin, BE):\n",
    "    '''\n",
    "    \n",
    "    '''\n",
    "    \n",
    "    AM = np.zeros_like(Tmin)\n",
    "    #First, select all the possible locations of interest in the A class:\n",
    "    AM[Tmin>=18] = 1\n",
    "    #Then, remove locations not in the AM class:\n",
    "    AM[Pann<25*(100-Pmin)]=0\n",
    "    #Then remove classes B and E:\n",
    "    AM = AM - BE\n",
    "    AM[AM<0] = 0\n",
    "    \n",
    "    \n",
    "    return AM"
   ]
  },
  {
   "cell_type": "code",
   "execution_count": 24,
   "metadata": {},
   "outputs": [],
   "source": [
    "def AS_loc(Tmin, Pssum, BE):\n",
    "    '''\n",
    "    Takes Tmin and Pmin to as np arrays to return the locations of AS.\n",
    "    '''   \n",
    "    \n",
    "    AS = np.zeros_like(Tmin)\n",
    "    #First, select all the possible locations of interest in the A class:\n",
    "    AS[Tmin>=18] = 1\n",
    "    #Then, remove locations not in the AS class:\n",
    "    AS[Pssum>=60] = 0\n",
    "    #Then remove classes B and E:\n",
    "    AS = AS - BE\n",
    "    AS[AS<0] = 0\n",
    "    \n",
    "    return AS"
   ]
  },
  {
   "cell_type": "code",
   "execution_count": 25,
   "metadata": {},
   "outputs": [],
   "source": [
    "def AW_loc(Tmin, Pwsum, BE):\n",
    "    '''\n",
    "    Takes Tmin and Pmin to as np arrays to return the locations of AW.\n",
    "    '''   \n",
    "    \n",
    "    AW = np.zeros_like(Tmin)\n",
    "    #First, select all the possible locations of interest in the A class:\n",
    "    AW[Tmin>=18] = 1\n",
    "    #Then, remove locations not in the AS class:\n",
    "    AW[Pwsum>=60] = 0\n",
    "    #Then remove classes B and E:\n",
    "    AW = AW - BE\n",
    "    AW[AW<0] = 0\n",
    "    \n",
    "    return AW"
   ]
  },
  {
   "cell_type": "code",
   "execution_count": 26,
   "metadata": {},
   "outputs": [],
   "source": [
    "def CS_loc(Tmin, Psmin, Pwmin, Pwmax, BE):\n",
    "    '''\n",
    "    \n",
    "    '''\n",
    "    \n",
    "    CS = np.zeros_like(Tmin)\n",
    "    #First, select all possible locations of interest in the C class:\n",
    "    CS[(-3< Tmin) & (Tmin<18)] = 1\n",
    "    #Then remove locations not in the CS class:\n",
    "    CS[Psmin>=Pwmin] = 0\n",
    "    CS[Pwmax<=3*Psmin] = 0\n",
    "    CS[Psmin>=40] = 0\n",
    "    #Then remove classes B and E:\n",
    "    CS = CS - BE\n",
    "    CS[CS<0] = 0\n",
    "    \n",
    "    return CS"
   ]
  },
  {
   "cell_type": "code",
   "execution_count": 27,
   "metadata": {},
   "outputs": [],
   "source": [
    "def CW_loc(Tmin, Psmin, Pwmin, Psmax, BE):\n",
    "    '''\n",
    "    \n",
    "    '''\n",
    "    \n",
    "    CW = np.zeros_like(Tmin)\n",
    "    #First, select all possible locations of interest in the C class:\n",
    "    CW[(-3< Tmin) & (Tmin<18)] = 1\n",
    "    #Then remove locations not in the CW class:\n",
    "    CW[Pwmin>=Psmin] = 0\n",
    "    CW[Psmax<= 10*Pwmin] = 0\n",
    "    #Then remove classes B and E:\n",
    "    CW = CW - BE\n",
    "    CW[CW<0] = 0\n",
    "    \n",
    "    \n",
    "    return CW"
   ]
  },
  {
   "cell_type": "code",
   "execution_count": 28,
   "metadata": {},
   "outputs": [],
   "source": [
    "def CF_loc(Tmin, CS, CW, BE):\n",
    "    '''\n",
    "    \n",
    "    '''\n",
    "    CF = np.zeros_like(Tmin)\n",
    "    #First, select all possible locations of interest in the C class:\n",
    "    CF[(-3< Tmin) & (Tmin<18)] = 1\n",
    "    #Remove everything in the CS and CW class:\n",
    "    CF = CF - CS - CW\n",
    "    #Then remove classes B and E:\n",
    "    CF = CF - BE\n",
    "    CF[CF<0] = 0\n",
    "    \n",
    "    \n",
    "    return CF"
   ]
  },
  {
   "cell_type": "code",
   "execution_count": 29,
   "metadata": {},
   "outputs": [],
   "source": [
    "def DS_loc(Tmin, Psmin, Pwmin, Pwmax, BE):\n",
    "    '''\n",
    "    \n",
    "    '''\n",
    "    \n",
    "    DS = np.zeros_like(Tmin)\n",
    "    #First, select all possible locations of interest in the C class:\n",
    "    DS[(-3>= Tmin)] = 1\n",
    "    #Then remove locations not in the CS class:\n",
    "    DS[Psmin>=Pwmin] = 0\n",
    "    DS[Pwmax<=3*Psmin] = 0\n",
    "    DS[Psmin>=40] = 0\n",
    "    #Then remove classes B and E:\n",
    "    DS = DS - BE\n",
    "    DS[DS<0] = 0\n",
    "    \n",
    "    return DS"
   ]
  },
  {
   "cell_type": "code",
   "execution_count": 30,
   "metadata": {},
   "outputs": [],
   "source": [
    "def DW_loc(Tmin, Psmin, Pwmin, Psmax, BE):\n",
    "    '''\n",
    "    \n",
    "    '''\n",
    "    \n",
    "    DW = np.zeros_like(Tmin)\n",
    "    #First, select all possible locations of interest in the C class:\n",
    "    DW[(-3>=Tmin)] = 1\n",
    "    #Then remove locations not in the CW class:\n",
    "    DW[Pwmin>=Psmin] = 0\n",
    "    DW[Psmax<= 10*Pwmin] = 0\n",
    "    #Then remove classes B and E:\n",
    "    DW = DW - BE\n",
    "    DW[DW<0] = 0\n",
    "    \n",
    "    return DW"
   ]
  },
  {
   "cell_type": "code",
   "execution_count": 31,
   "metadata": {},
   "outputs": [],
   "source": [
    "def DF_loc(Tmin, DS, DW, BE):\n",
    "    '''\n",
    "    \n",
    "    '''\n",
    "    DF = np.zeros_like(Tmin)\n",
    "    #First, select all possible locations of interest in the C class:\n",
    "    DF[(-3>= Tmin)] = 1\n",
    "    #Remove everything in the CS and CW class:\n",
    "    DF = DF - DS - DW\n",
    "    #Then remove classes B and E:\n",
    "    DF = DF - BE\n",
    "    DF[DF<0] = 0\n",
    "    \n",
    "    \n",
    "    return DF"
   ]
  },
  {
   "cell_type": "markdown",
   "metadata": {},
   "source": [
    "### The following are for finding the sub-sub classes of B-D"
   ]
  },
  {
   "cell_type": "code",
   "execution_count": 32,
   "metadata": {},
   "outputs": [],
   "source": [
    "def B_sub(B_class, Tmean):\n",
    "    '''\n",
    "    This function finds the sub-sub classes within the B sub-classes.\n",
    "    '''\n",
    "    #First, we mask out the B subclass on the temperature:\n",
    "    T_mask = B_class*Tmean\n",
    "    \n",
    "    #Next, we create a mask for the two sub-sub-classes:\n",
    "    h_class = np.zeros_like(T_mask)\n",
    "    h_class[T_mask>= 18] = 1\n",
    "    \n",
    "    k_class = B_class - h_class\n",
    "    \n",
    "    return h_class, k_class"
   ]
  },
  {
   "cell_type": "code",
   "execution_count": 33,
   "metadata": {},
   "outputs": [],
   "source": [
    "def CD_sub(CD_class, Tmax, Tmin, warmsum):\n",
    "    '''\n",
    "    Compute sub-sub-classes of the C and D class\n",
    "    '''\n",
    "    \n",
    "    #First, we compute the a class:\n",
    "    T_max_mask = CD_class*Tmax\n",
    "    a_class = np.zeros_like(Tmax)\n",
    "    a_class[T_max_mask>= 22] = 1\n",
    "    \n",
    "    #Next we form the b class.  This is done by first selecting all possible points that might be in b_class, and then zeroing out the \n",
    "    #points that are not in b_class:\n",
    "    b_class = CD_class - a_class\n",
    "    b_class[warmsum<=3] = 0\n",
    "    \n",
    "    #Next, we form the c class in the same manor as b class:\n",
    "    c_class = CD_class - a_class - b_class\n",
    "    c_class[Tmin>=-38] = 0\n",
    "    \n",
    "    #What is left over is d_class\n",
    "    d_class = CD_class - a_class - b_class - c_class\n",
    "    \n",
    "    return a_class, b_class, c_class, d_class"
   ]
  },
  {
   "cell_type": "markdown",
   "metadata": {},
   "source": [
    "# Put together to compute class"
   ]
  },
  {
   "cell_type": "code",
   "execution_count": 92,
   "metadata": {},
   "outputs": [],
   "source": [
    "def KG_model(Tmean, Tmax, Tmin, Pth, Pann, Pmin, Pssum, Pwsum, Psmin, Pwmin, Psmax, Pwmax, warmsum):\n",
    "    '''\n",
    "    Computes each of the KG classes\n",
    "    '''\n",
    "    \n",
    "    ET = ET_loc(Tmax)\n",
    "    EF = EF_loc(Tmax)\n",
    "    \n",
    "    BS = BS_loc(Pann, Pth)\n",
    "    BW = BW_loc(Pann, Pth)\n",
    "    \n",
    "    #Add together to get BE, which is used to compute the rest of the classes\n",
    "    BE = ET+EF+BS+BW\n",
    "    \n",
    "    AF = AF_loc(Tmin, Pmin, BE)\n",
    "    AM = AM_loc(Tmin, Pann, Pmin, BE)\n",
    "    AS = AS_loc(Tmin, Pssum, BE )\n",
    "    AW = AW_loc(Tmin, Pwsum, BE)\n",
    "    \n",
    "    CS = CS_loc(Tmin, Psmin, Pwmin, Pwmax, BE)\n",
    "    CW = CW_loc(Tmin, Psmin, Pwmin, Psmax, BE)\n",
    "    CF = CF_loc(Tmin, CS, CW, BE)\n",
    "    \n",
    "    DS = DS_loc(Tmin, Psmin, Pwmin, Pwmax, BE)\n",
    "    DW = DW_loc(Tmin, Psmin, Pwmin, Psmax, BE)\n",
    "    DF = DF_loc(Tmin, DS, DW, BE)\n",
    "    \n",
    "    #Find the sub-classes of B:\n",
    "    BSh, BSk =  B_sub(BS, Tmean)\n",
    "    BWs, BWk =  B_sub(BW, Tmean)\n",
    "    \n",
    "    #Find the sub classes of C:  Note that CSd is not possible by construction\n",
    "    CSa, CSb, CSc, CSd = CD_sub(CS, Tmax, Tmin, warmsum)\n",
    "    CWa, CWb, CWc, CWd = CD_sub(CW, Tmax, Tmin, warmsum)\n",
    "    CFa, CFb, CFc, CFd = CD_sub(CF, Tmax, Tmin, warmsum)\n",
    "    \n",
    "    #Find the sub classes of D:\n",
    "    DSa, DSb, DSc, DSd = CD_sub(DS, Tmax, Tmin, warmsum)\n",
    "    DWa, DWb, DWc, DWd = CD_sub(DW, Tmax, Tmin, warmsum)\n",
    "    DFa, DFb, DFc, DFd = CD_sub(DF, Tmax, Tmin, warmsum)\n",
    "    \n",
    "    \n",
    "#     KGA = AF + AM + AS + AW\n",
    "#     KGB = BS + BW\n",
    "#     KGC = CS + CW + CF\n",
    "#     KGD = DS + DW + DF\n",
    "#     KGE = ET + EF\n",
    "    \n",
    "    KG = ET + 2*EF + 3*BSh + 4*BSk + 5*BWs + 6*BWk + 7*CSa + 8*CSb + 9*CSc + 10*CWa + 11*CWb + 12*CWc + 13*CFa + 14*CFb + 15*CFc +16*DSa + 17*DSb + 18*DSc +  19*DSd + 20*DWa +21*DWb + 22*DWc + 23*DWd + 24*DFa + 25*DFb + 26*DFc +  27*DFd +  28*AF + 29*AM + 30*AS + 31*AW\n",
    "    \n",
    "    #KG = ET + 2*EF + 3*BS + 4*BW + 5*AF + 6*AM + 7*AS + 8*AW + 9*CS + 10*CW + 11*CF + 12*DS + 13*DW + 14*DF \n",
    "    return KG"
   ]
  },
  {
   "cell_type": "code",
   "execution_count": 93,
   "metadata": {
    "scrolled": true
   },
   "outputs": [
    {
     "name": "stderr",
     "output_type": "stream",
     "text": [
      "C:\\Users\\Derek\\Miniconda3\\lib\\site-packages\\ipykernel_launcher.py:6: RuntimeWarning: invalid value encountered in greater_equal\n",
      "  \n",
      "C:\\Users\\Derek\\Miniconda3\\lib\\site-packages\\ipykernel_launcher.py:6: RuntimeWarning: invalid value encountered in less\n",
      "  \n",
      "C:\\Users\\Derek\\Miniconda3\\lib\\site-packages\\ipykernel_launcher.py:9: RuntimeWarning: invalid value encountered in greater_equal\n",
      "  if __name__ == '__main__':\n",
      "C:\\Users\\Derek\\Miniconda3\\lib\\site-packages\\ipykernel_launcher.py:11: RuntimeWarning: invalid value encountered in less\n",
      "  # This is added back by InteractiveShellApp.init_path()\n",
      "C:\\Users\\Derek\\Miniconda3\\lib\\site-packages\\ipykernel_launcher.py:8: RuntimeWarning: invalid value encountered in greater_equal\n",
      "  \n",
      "C:\\Users\\Derek\\Miniconda3\\lib\\site-packages\\ipykernel_launcher.py:10: RuntimeWarning: invalid value encountered in less\n",
      "  # Remove the CWD from sys.path while we load stuff.\n",
      "C:\\Users\\Derek\\Miniconda3\\lib\\site-packages\\ipykernel_launcher.py:8: RuntimeWarning: invalid value encountered in greater\n",
      "  \n",
      "C:\\Users\\Derek\\Miniconda3\\lib\\site-packages\\ipykernel_launcher.py:8: RuntimeWarning: invalid value encountered in less\n",
      "  \n",
      "C:\\Users\\Derek\\Miniconda3\\lib\\site-packages\\ipykernel_launcher.py:10: RuntimeWarning: invalid value encountered in greater_equal\n",
      "  # Remove the CWD from sys.path while we load stuff.\n",
      "C:\\Users\\Derek\\Miniconda3\\lib\\site-packages\\ipykernel_launcher.py:11: RuntimeWarning: invalid value encountered in less_equal\n",
      "  # This is added back by InteractiveShellApp.init_path()\n",
      "C:\\Users\\Derek\\Miniconda3\\lib\\site-packages\\ipykernel_launcher.py:12: RuntimeWarning: invalid value encountered in greater_equal\n",
      "  if sys.path[0] == '':\n",
      "C:\\Users\\Derek\\Miniconda3\\lib\\site-packages\\ipykernel_launcher.py:7: RuntimeWarning: invalid value encountered in greater\n",
      "  import sys\n",
      "C:\\Users\\Derek\\Miniconda3\\lib\\site-packages\\ipykernel_launcher.py:7: RuntimeWarning: invalid value encountered in less\n",
      "  import sys\n",
      "C:\\Users\\Derek\\Miniconda3\\lib\\site-packages\\ipykernel_launcher.py:8: RuntimeWarning: invalid value encountered in less_equal\n",
      "  \n",
      "C:\\Users\\Derek\\Miniconda3\\lib\\site-packages\\ipykernel_launcher.py:7: RuntimeWarning: invalid value encountered in less_equal\n",
      "  import sys\n",
      "C:\\Users\\Derek\\Miniconda3\\lib\\site-packages\\ipykernel_launcher.py:18: RuntimeWarning: invalid value encountered in greater_equal\n"
     ]
    }
   ],
   "source": [
    "KG = KG_model(T_mean, T_max, T_min, Pth, P_ann, P_min, P_s_sum, P_w_sum, P_s_min, P_w_min, P_s_max, P_w_max, warmsum)"
   ]
  },
  {
   "cell_type": "markdown",
   "metadata": {},
   "source": [
    "### All Class"
   ]
  },
  {
   "cell_type": "code",
   "execution_count": 101,
   "metadata": {},
   "outputs": [
    {
     "data": {
      "text/plain": [
       "(array([236755,      1,      0,   9061,  32036,   5891,   1320,  31915,   1045,      0,      0,      0,      0,  34950,     76,      0,  31273,    566,      0,   6021,      0,      0,      0,      0, 166232,    420,      0,  12182,     48], dtype=int64),\n",
       " array([0, 1, 2, 3, 4, 5, 6, 7, 8, 9, 10, 11, 12, 13, 14, 15, 16, 17, 18, 19, 20, 21, 22, 23, 24, 25, 26, 27, 28, 29]))"
      ]
     },
     "execution_count": 101,
     "metadata": {},
     "output_type": "execute_result"
    }
   ],
   "source": [
    "np.histogram(KG, bins=29)"
   ]
  },
  {
   "cell_type": "markdown",
   "metadata": {},
   "source": [
    "lat_space = np.linspace(start = np.min(ds.lat.data), stop = np.max(ds.lat.data), num = 7)\n",
    "lat_space = np.round(lat_space, decimals = 1)\n",
    "lon_space = np.linspace(start = np.min(ds.lon.data), stop = np.max(ds.lon.data), num = 7)\n",
    "lon_space = np.round(lon_space, decimals = 1)"
   ]
  },
  {
   "cell_type": "code",
   "execution_count": 102,
   "metadata": {},
   "outputs": [],
   "source": [
    "colormap = np.array([\n",
    "    [255, 255, 255],\n",
    "    [255, 204, 255],\n",
    "    [204, 255, 255],\n",
    "    [255, 153, 51],\n",
    "    [255, 102, 0],\n",
    "    [204, 102, 0],\n",
    "    [255, 51, 0],\n",
    "    [255, 255, 0],\n",
    "    [204, 153, 0],\n",
    "    [204, 204, 0],\n",
    "    [153, 255, 51],\n",
    "    [153, 204, 0],\n",
    "    [102, 255, 51],\n",
    "    [102, 153, 0],\n",
    "    [0, 153, 0],\n",
    "    [0, 255, 0],\n",
    "    [0, 255, 153],\n",
    "    [51, 153, 102],\n",
    "    [51, 204, 204],\n",
    "    [0, 102, 153],\n",
    "    [0, 51, 102],\n",
    "    [0, 153, 255],\n",
    "    [0, 51, 153],\n",
    "    [0, 0, 255],\n",
    "    [0, 0, 204],\n",
    "    [0, 0, 102],\n",
    "    [102, 102, 255],\n",
    "    [51, 51, 204],\n",
    "    [102, 0, 51],\n",
    "    [204, 102, 153],\n",
    "    [153, 0, 153],\n",
    "    [204, 51, 153],\n",
    "])"
   ]
  },
  {
   "cell_type": "code",
   "execution_count": 103,
   "metadata": {},
   "outputs": [],
   "source": [
    "colormap = (1/255)*colormap"
   ]
  },
  {
   "cell_type": "code",
   "execution_count": 104,
   "metadata": {},
   "outputs": [],
   "source": [
    "cmaprand = color.ListedColormap(colormap)"
   ]
  },
  {
   "cell_type": "code",
   "execution_count": 105,
   "metadata": {},
   "outputs": [],
   "source": [
    "plot_labels = ['ET', 'EF' ,'BSh', 'BSk','BWs','BWk','CSa','CSb','CSc','CWa','CWb','CWc' ,'CFa','CFb','CFc','DSa','DSb','DSc','DSd','DWa','DWb','DWc','DWd','DFa','DFb','DFc','DFd','AF','AM','AS','AW']"
   ]
  },
  {
   "cell_type": "code",
   "execution_count": 109,
   "metadata": {},
   "outputs": [
    {
     "data": {
      "image/png": "[encoded data removed]",
      "text/plain": [
       "<Figure size 1800x2520 with 2 Axes>"
      ]
     },
     "metadata": {},
     "output_type": "display_data"
    }
   ],
   "source": [
    "f, ax = plt.subplots(figsize=(25, 35), ncols=1, nrows=1)\n",
    "    #Plot Prec\n",
    "p0 = plt.imshow(KG, cmap=cmaprand, origin = [0,0])\n",
    "#p0 = plt.imshow(lexlabels, cmap=\"Set3\", origin = [0,0])\n",
    "\n",
    "cbar = f.colorbar(p0, ax=ax, orientation='horizontal', ticks= np.arange(0,32*.905, .905),\n",
    "             pad=0.07, fraction=0.05)\n",
    "\n",
    "#cbar.ax.set_xticks([p0.colorbar.vmin + t*(p0.colorbar.vmax-p0.colorbar.vmin) for t in cbar.ax.get_xticks()])\n",
    "#cbar.set_ticks([p0.colorbar.vmin + t*(p0.colorbar.vmax - p0.colorbar.vmin) for t in cbar.ax.get_xticks()])\n",
    "cbar.ax.set_xticklabels(['NAN','ET', 'EF' ,'BSh', 'BSk','BWs','BWk','CSa','CSb','CSc','CWa','CWb','CWc' ,'CFa','CFb','CFc','DSa','DSb','DSc','DSd','DWa','DWb','DWc','DWd','DFa','DFb','DFc','DFd','AF','AM','AS','AW'])\n",
    "\n",
    "#Title and labels for edges of figure\n",
    "ax.set_title('KG Model') \n",
    "ax.set_xticklabels(lon_space, minor=False)\n",
    "ax.set_yticklabels(lat_space, minor=False)\n",
    "\n",
    "plt.show()"
   ]
  },
  {
   "cell_type": "code",
   "execution_count": null,
   "metadata": {},
   "outputs": [],
   "source": []
  }
 ],
 "metadata": {
  "kernelspec": {
   "display_name": "Python 3",
   "language": "python",
   "name": "python3"
  },
  "language_info": {
   "codemirror_mode": {
    "name": "ipython",
    "version": 3
   },
   "file_extension": ".py",
   "mimetype": "text/x-python",
   "name": "python",
   "nbconvert_exporter": "python",
   "pygments_lexer": "ipython3",
   "version": "3.6.5"
  }
 },
 "nbformat": 4,
 "nbformat_minor": 2
}
